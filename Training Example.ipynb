{
 "cells": [
  {
   "cell_type": "code",
   "execution_count": 1,
   "metadata": {},
   "outputs": [],
   "source": [
    "import random\n",
    "import time\n",
    "import sys\n",
    "from collections import Counter\n",
    "from statistics import mean, median\n",
    "import numpy as np\n",
    "import grpc\n",
    "\n",
    "import simulation_service_pb2 as v1\n",
    "import simulation_service_pb2_grpc as v1GRPC"
   ]
  },
  {
   "cell_type": "markdown",
   "metadata": {},
   "source": [
    "# Before running this...\n",
    "You'll need to have the training server running locally on your machine. Find more info about that [here](https://olamai.gitbook.io/olamai/training-models/installing-the-environment)"
   ]
  },
  {
   "cell_type": "markdown",
   "metadata": {},
   "source": [
    "# Connecting to the training server"
   ]
  },
  {
   "cell_type": "code",
   "execution_count": 2,
   "metadata": {},
   "outputs": [],
   "source": [
    "channel = grpc.insecure_channel('localhost:9090')\n",
    "stub = v1GRPC.SimulationServiceStub(channel)\n",
    "metadata = [('auth-secret', 'MOCK-SECRET')]\n",
    "api=\"v1\""
   ]
  },
  {
   "cell_type": "markdown",
   "metadata": {},
   "source": [
    "# Helper Functions #"
   ]
  },
  {
   "cell_type": "code",
   "execution_count": 3,
   "metadata": {},
   "outputs": [],
   "source": [
    "def randomAction():\n",
    "    rand = random.randint(1, 3)\n",
    "    if rand == 1:\n",
    "        return \"MOVE\"\n",
    "    if rand == 2:\n",
    "        return \"CONSUME\"\n",
    "    if rand == 3:\n",
    "        return \"WAIT\"\n",
    "    \n",
    "def randomDirection():\n",
    "    rand = random.randint(1, 4)\n",
    "    if rand == 1:\n",
    "        return \"UP\"\n",
    "    if rand == 2:\n",
    "        return \"DOWN\"\n",
    "    if rand == 3:\n",
    "        return \"LEFT\"\n",
    "    if rand == 4:\n",
    "        return \"RIGHT\""
   ]
  },
  {
   "cell_type": "markdown",
   "metadata": {},
   "source": [
    "# Commands For Training #"
   ]
  },
  {
   "cell_type": "code",
   "execution_count": 4,
   "metadata": {},
   "outputs": [
    {
     "data": {
      "text/plain": []
     },
     "execution_count": 4,
     "metadata": {},
     "output_type": "execute_result"
    }
   ],
   "source": [
    "stub.ResetWorld(v1.ResetWorldRequest(), metadata=metadata)"
   ]
  },
  {
   "cell_type": "code",
   "execution_count": 5,
   "metadata": {},
   "outputs": [],
   "source": [
    "createAgentResp = stub.CreateAgent(v1.CreateAgentRequest(api=\"v1\", modelName=\"My Model\", x=0, y=0), metadata=metadata)\n",
    "agentId = createAgentResp.id"
   ]
  },
  {
   "cell_type": "code",
   "execution_count": 6,
   "metadata": {},
   "outputs": [
    {
     "data": {
      "text/plain": [
       "False"
      ]
     },
     "execution_count": 6,
     "metadata": {},
     "output_type": "execute_result"
    }
   ],
   "source": [
    "action = v1.Action(id=\"MOVE\", direction=\"UP\")\n",
    "actionRes = stub.ExecuteAgentAction(v1.ExecuteAgentActionRequest(id=agentId, action=action))\n",
    "actionRes.wasActionSuccessful"
   ]
  },
  {
   "cell_type": "code",
   "execution_count": 7,
   "metadata": {},
   "outputs": [
    {
     "name": "stdout",
     "output_type": "stream",
     "text": [
      "id: 389\n",
      "cells: \"EMPTY\"\n",
      "cells: \"FOOD\"\n",
      "cells: \"EMPTY\"\n",
      "cells: \"EMPTY\"\n",
      "cells: \"EMPTY\"\n",
      "cells: \"EMPTY\"\n",
      "cells: \"EMPTY\"\n",
      "cells: \"EMPTY\"\n",
      "alive: true\n",
      "energy: 98\n",
      "health: 100\n",
      "\n",
      "[['EMPTY' 'FOOD' 'EMPTY']\n",
      " ['EMPTY' 'A' 'EMPTY']\n",
      " ['EMPTY' 'EMPTY' 'EMPTY']]\n"
     ]
    }
   ],
   "source": [
    "obsvRes = stub.GetAgentObservation(v1.GetAgentObservationRequest(id=agentId))\n",
    "obsv = obsvRes.observation\n",
    "cellList = list(obsv.cells)\n",
    "cellList.insert(4, 'A')\n",
    "cellMatrix = np.array(cellList).reshape(3,3)\n",
    "# Full observation response\n",
    "print(obsv)\n",
    "# Formatted as what the agent sees\n",
    "print(cellMatrix)"
   ]
  },
  {
   "cell_type": "markdown",
   "metadata": {},
   "source": [
    "# Training Example #"
   ]
  },
  {
   "cell_type": "code",
   "execution_count": 8,
   "metadata": {},
   "outputs": [
    {
     "name": "stdout",
     "output_type": "stream",
     "text": [
      "Average accepted score:  64\n",
      "Median accepted score :  65.0\n",
      "Counter({60: 22, 65: 18, 70: 9, 80: 1})\n"
     ]
    }
   ],
   "source": [
    "initial_games = 50\n",
    "goal_steps = 500\n",
    "score_requirement = 32\n",
    "training_data = []\n",
    "scores = []\n",
    "accepted_scores = []\n",
    "# Metadata values that need to be sent in order for the calls to be succesful\n",
    "api=\"v1\"\n",
    "# Run through some iterations\n",
    "for episode in range(initial_games):\n",
    "    # Reset the world\n",
    "    stub.ResetWorld(v1.ResetWorldRequest(), metadata=metadata)\n",
    "    # Reset game memory\n",
    "    game_memory = []\n",
    "    # Spawn a new agent\n",
    "    spawnAgentRes = stub.CreateAgent(v1.CreateAgentRequest(api=\"v1\", modelName=\"My Model\", x=0, y=0), metadata=metadata)\n",
    "    agentId = spawnAgentRes.id \n",
    "    # Score (essentially the age of the agent)\n",
    "    score = 0\n",
    "    # Perform actions and observations\n",
    "    for t in range(goal_steps):\n",
    "        obsvResp = stub.GetAgentObservation(v1.GetAgentObservationRequest(api=api, id=agentId), metadata=metadata)\n",
    "        if obsvResp.observation.alive == False:\n",
    "            break\n",
    "        action = randomAction()\n",
    "        direction = randomDirection()\n",
    "        action = v1.Action(id=action, direction=direction)\n",
    "        actionRes = stub.ExecuteAgentAction(v1.ExecuteAgentActionRequest(api=api, id=agentId, action=action), metadata=metadata)\n",
    "        score += 1\n",
    "        game_memory.append( [list(obsvResp.observation.cells), action] )\n",
    "        # time.sleep(.20)\n",
    "    \n",
    "    if score >= score_requirement:\n",
    "        accepted_scores.append(score)\n",
    "        for data in game_memory:\n",
    "            training_data.append(data)\n",
    "    \n",
    "    scores.append(score)\n",
    "\n",
    "training_data_save = np.array(training_data)\n",
    "np.save('saved_training_data.npy', training_data_save)\n",
    "\n",
    "print('Average accepted score: ', mean(accepted_scores))\n",
    "print('Median accepted score : ', median(accepted_scores))\n",
    "print(Counter(accepted_scores))\n",
    "        "
   ]
  },
  {
   "cell_type": "code",
   "execution_count": null,
   "metadata": {},
   "outputs": [],
   "source": []
  }
 ],
 "metadata": {
  "kernelspec": {
   "display_name": "Python 3",
   "language": "python",
   "name": "python3"
  },
  "language_info": {
   "codemirror_mode": {
    "name": "ipython",
    "version": 3
   },
   "file_extension": ".py",
   "mimetype": "text/x-python",
   "name": "python",
   "nbconvert_exporter": "python",
   "pygments_lexer": "ipython3",
   "version": "3.6.8"
  }
 },
 "nbformat": 4,
 "nbformat_minor": 2
}
