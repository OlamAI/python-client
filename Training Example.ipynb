{
 "cells": [
  {
   "cell_type": "code",
   "execution_count": 10,
   "metadata": {},
   "outputs": [],
   "source": [
    "import random\n",
    "import time\n",
    "import sys\n",
    "from collections import Counter\n",
    "from statistics import mean, median\n",
    "import numpy as np\n",
    "import grpc\n",
    "\n",
    "import simulation_service_pb2 as v1\n",
    "import simulation_service_pb2_grpc as v1GRPC"
   ]
  },
  {
   "cell_type": "markdown",
   "metadata": {},
   "source": [
    "# Before running this...\n",
    "You'll need to have the training server running locally on your machine. Find more info about that [here](https://olamai.gitbook.io/olamai/training-models/installing-the-environment)"
   ]
  },
  {
   "cell_type": "markdown",
   "metadata": {},
   "source": [
    "# Connecting to the training server"
   ]
  },
  {
   "cell_type": "code",
   "execution_count": 2,
   "metadata": {},
   "outputs": [],
   "source": [
    "channel = grpc.insecure_channel('localhost:9090')\n",
    "stub = v1GRPC.SimulationServiceStub(channel)\n",
    "metadata = [('auth-secret', 'MOCK-SECRET')]\n",
    "api=\"v1\""
   ]
  },
  {
   "cell_type": "markdown",
   "metadata": {},
   "source": [
    "# Helper Functions #"
   ]
  },
  {
   "cell_type": "code",
   "execution_count": 3,
   "metadata": {},
   "outputs": [],
   "source": [
    "def randomAction():\n",
    "    rand = random.randint(0, 1)\n",
    "    \n",
    "def randomDirection():\n",
    "    rand = random.randint(0, 3)"
   ]
  },
  {
   "cell_type": "markdown",
   "metadata": {},
   "source": [
    "## ResetWorld\n",
    "Resets the world, respawns food, and removes all agents"
   ]
  },
  {
   "cell_type": "code",
   "execution_count": 4,
   "metadata": {},
   "outputs": [
    {
     "data": {
      "text/plain": []
     },
     "execution_count": 4,
     "metadata": {},
     "output_type": "execute_result"
    }
   ],
   "source": [
    "stub.ResetWorld(v1.ResetWorldRequest(), metadata=metadata)"
   ]
  },
  {
   "cell_type": "markdown",
   "metadata": {},
   "source": [
    "## CreateAgent\n",
    "Creates a new agent at a given position"
   ]
  },
  {
   "cell_type": "code",
   "execution_count": 26,
   "metadata": {},
   "outputs": [],
   "source": [
    "spawnPos = v1.Vec2(x=0, y=0)\n",
    "agent = v1.Entity(pos=spawnPos, modelName=\"My Model\")\n",
    "createAgentResp = stub.CreateAgent(v1.CreateAgentRequest(api=\"v1\", agent=agent), metadata=metadata)\n",
    "agentId = createAgentResp.id"
   ]
  },
  {
   "cell_type": "markdown",
   "metadata": {},
   "source": [
    "## ExecuteAgentAction\n",
    "Tells an agent to execute an action"
   ]
  },
  {
   "cell_type": "code",
   "execution_count": 12,
   "metadata": {},
   "outputs": [
    {
     "data": {
      "text/plain": [
       "False"
      ]
     },
     "execution_count": 12,
     "metadata": {},
     "output_type": "execute_result"
    }
   ],
   "source": [
    "actionRes = stub.ExecuteAgentAction(v1.ExecuteAgentActionRequest(id=agentId, action=0, direction=1))\n",
    "actionRes.wasSuccessful"
   ]
  },
  {
   "cell_type": "markdown",
   "metadata": {},
   "source": [
    "## GetAgentObservation\n",
    "Gets an observation for a specific agent"
   ]
  },
  {
   "cell_type": "code",
   "execution_count": 19,
   "metadata": {},
   "outputs": [
    {
     "name": "stdout",
     "output_type": "stream",
     "text": [
      "isAlive: true\n",
      "entity {\n",
      "  id: 195\n",
      "  class: \"AGENT\"\n",
      "  pos {\n",
      "  }\n",
      "  health: 60\n",
      "  ownerUID: \"MOCK_USER_ID\"\n",
      "  modelName: \"My Model\"\n",
      "}\n",
      "cells: \"EMPTY\"\n",
      "cells: \"EMPTY\"\n",
      "cells: \"EMPTY\"\n",
      "cells: \"EMPTY\"\n",
      "cells: \"EMPTY\"\n",
      "cells: \"EMPTY\"\n",
      "cells: \"FOOD\"\n",
      "cells: \"EMPTY\"\n",
      "\n",
      "[['EMPTY' 'EMPTY' 'EMPTY']\n",
      " ['EMPTY' 'A' 'EMPTY']\n",
      " ['EMPTY' 'FOOD' 'EMPTY']]\n"
     ]
    }
   ],
   "source": [
    "obsvRes = stub.GetAgentObservation(v1.GetAgentObservationRequest(id=agentId))\n",
    "obsv = obsvRes.observation\n",
    "cellList = list(obsv.cells)\n",
    "cellList.insert(4, 'A')\n",
    "cellMatrix = np.array(cellList).reshape(3,3)\n",
    "# Full observation response\n",
    "print(obsv)\n",
    "# Formatted as what the agent sees\n",
    "print(cellMatrix)"
   ]
  },
  {
   "cell_type": "markdown",
   "metadata": {},
   "source": [
    "## StepWorld\n",
    "Steps the simulation once. This mostly just calculates the living cost for each agent"
   ]
  },
  {
   "cell_type": "code",
   "execution_count": 7,
   "metadata": {},
   "outputs": [
    {
     "data": {
      "text/plain": []
     },
     "execution_count": 7,
     "metadata": {},
     "output_type": "execute_result"
    }
   ],
   "source": [
    "stub.StepWorld(v1.StepWorldRequest(), metadata=metadata)"
   ]
  },
  {
   "cell_type": "markdown",
   "metadata": {},
   "source": [
    "# Training Example #"
   ]
  },
  {
   "cell_type": "code",
   "execution_count": 9,
   "metadata": {},
   "outputs": [
    {
     "name": "stdout",
     "output_type": "stream",
     "text": [
      "Average accepted score:  141.48837209302326\n",
      "Median accepted score :  52\n",
      "Counter({500: 9, 56: 5, 32: 4, 48: 3, 38: 3, 58: 3, 42: 3, 46: 3, 52: 2, 54: 2, 40: 2, 50: 1, 60: 1, 44: 1, 34: 1})\n"
     ]
    }
   ],
   "source": [
    "initial_games = 50\n",
    "goal_steps = 500\n",
    "score_requirement = 32\n",
    "training_data = []\n",
    "scores = []\n",
    "accepted_scores = []\n",
    "# Metadata values that need to be sent in order for the calls to be succesful\n",
    "api=\"v1\"\n",
    "# Run through some iterations\n",
    "for episode in range(initial_games):\n",
    "    # Reset the world\n",
    "    stub.ResetWorld(v1.ResetWorldRequest(), metadata=metadata)\n",
    "    # Reset game memory\n",
    "    game_memory = []\n",
    "    # Spawn a new agent\n",
    "    spawnPos = v1.Vec2(x=0, y=0)\n",
    "    agent = v1.Entity(pos=spawnPos)\n",
    "    createAgentResp = stub.CreateAgent(v1.CreateAgentRequest(api=\"v1\", agent=agent), metadata=metadata)\n",
    "    agentId = createAgentResp.id \n",
    "    # Score (essentially the age of the agent)\n",
    "    score = 0\n",
    "    # Perform actions and observations\n",
    "    for t in range(goal_steps):\n",
    "        obsvResp = stub.GetAgentObservation(v1.GetAgentObservationRequest(api=api, id=agentId), metadata=metadata)\n",
    "        if obsvResp.observation.isAlive == False:\n",
    "            break\n",
    "        action = randomAction()\n",
    "        direction = randomDirection()\n",
    "        actionRes = stub.ExecuteAgentAction(v1.ExecuteAgentActionRequest(api=api, id=agentId, action=action, direction=direction), metadata=metadata)\n",
    "        score += 1\n",
    "        game_memory.append( [list(obsvResp.observation.cells), action] )\n",
    "        # Step the simulation\n",
    "        stub.StepWorld(v1.StepWorldRequest(), metadata=metadata)\n",
    "        # time.sleep(.20)\n",
    "    \n",
    "    if score >= score_requirement:\n",
    "        accepted_scores.append(score)\n",
    "        for data in game_memory:\n",
    "            training_data.append(data)\n",
    "    \n",
    "    scores.append(score)\n",
    "\n",
    "training_data_save = np.array(training_data)\n",
    "np.save('saved_training_data.npy', training_data_save)\n",
    "\n",
    "print('Average accepted score: ', mean(accepted_scores))\n",
    "print('Median accepted score : ', median(accepted_scores))\n",
    "print(Counter(accepted_scores))\n",
    "        "
   ]
  },
  {
   "cell_type": "code",
   "execution_count": null,
   "metadata": {},
   "outputs": [],
   "source": []
  }
 ],
 "metadata": {
  "kernelspec": {
   "display_name": "Python 3",
   "language": "python",
   "name": "python3"
  },
  "language_info": {
   "codemirror_mode": {
    "name": "ipython",
    "version": 3
   },
   "file_extension": ".py",
   "mimetype": "text/x-python",
   "name": "python",
   "nbconvert_exporter": "python",
   "pygments_lexer": "ipython3",
   "version": "3.6.8"
  }
 },
 "nbformat": 4,
 "nbformat_minor": 2
}
