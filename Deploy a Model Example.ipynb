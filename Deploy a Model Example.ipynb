{
 "cells": [
  {
   "cell_type": "code",
   "execution_count": 1,
   "metadata": {},
   "outputs": [],
   "source": [
    "import numpy as np\n",
    "import random\n",
    "import tensorflow as tf\n",
    "import matplotlib.pyplot as plt\n",
    "import grpc\n",
    "\n",
    "import simulation_service_pb2 as v1\n",
    "import simulation_service_pb2_grpc as v1GRPC"
   ]
  },
  {
   "cell_type": "markdown",
   "metadata": {},
   "source": [
    "# Helper Functions"
   ]
  },
  {
   "cell_type": "code",
   "execution_count": 3,
   "metadata": {},
   "outputs": [],
   "source": [
    "# For generating a random action\n",
    "actions = [\n",
    "    [\"MOVE\", \"UP\"],\n",
    "    [\"MOVE\", \"DOWN\"],\n",
    "    [\"MOVE\", \"LEFT\"],\n",
    "    [\"MOVE\", \"RIGHT\"],\n",
    "    [\"CONSUME\", \"UP\"],\n",
    "    [\"CONSUME\", \"DOWN\"],\n",
    "    [\"CONSUME\", \"LEFT\"],\n",
    "    [\"CONSUME\", \"RIGHT\"],\n",
    "    [\"WAIT\", \"DOWN\"]\n",
    "]\n",
    "\n",
    "def randomAction():\n",
    "    return random.randint(0, 8)\n",
    "def cellStringToNumber(s):\n",
    "    if (s == \"EMPTY\"):\n",
    "        return 0\n",
    "    elif (s == \"FOOD\"):\n",
    "        return 1\n",
    "    else:\n",
    "        return 0"
   ]
  },
  {
   "cell_type": "markdown",
   "metadata": {},
   "source": [
    "# Connect to our servers"
   ]
  },
  {
   "cell_type": "code",
   "execution_count": 4,
   "metadata": {},
   "outputs": [],
   "source": [
    "channel = grpc.insecure_channel('35.238.189.154:9090')\n",
    "stub = v1GRPC.SimulationServiceStub(channel)\n",
    "metadata = [('auth-secret', '<your-secret-key>')]\n",
    "api=\"v1\""
   ]
  },
  {
   "cell_type": "code",
   "execution_count": null,
   "metadata": {},
   "outputs": [],
   "source": [
    "observations = stub.CreateRemoteModel(v1.CreateRemoteModelRequest(api=api, name=\"My Model\"), metadata=metadata)\n",
    "# NOTE: This try-catch is EXTREMELY important. \n",
    "# If you don't put this here, you won't be able to remove your model!\n",
    "# With it here you can simply stop this cell and it will be disconnected from our servers\n",
    "try:\n",
    "    for obsv in observations:\n",
    "        # This is example code, put your model execution here!\n",
    "        if (obsv.alive == False):\n",
    "            continue\n",
    "        action = actions[randomAction()]\n",
    "        actionId = action[0]\n",
    "        actionDir = action[1]\n",
    "        action = v1.Action(id=actionId, direction=actionDir)\n",
    "        actionRes = stub.ExecuteAgentAction(v1.ExecuteAgentActionRequest(api=api, id=obsv.id, action=action), metadata=metadata)\n",
    "except KeyboardInterrupt:\n",
    "    observations.cancel()"
   ]
  }
 ],
 "metadata": {
  "kernelspec": {
   "display_name": "Python 3",
   "language": "python",
   "name": "python3"
  },
  "language_info": {
   "codemirror_mode": {
    "name": "ipython",
    "version": 3
   },
   "file_extension": ".py",
   "mimetype": "text/x-python",
   "name": "python",
   "nbconvert_exporter": "python",
   "pygments_lexer": "ipython3",
   "version": "3.6.8"
  }
 },
 "nbformat": 4,
 "nbformat_minor": 2
}
